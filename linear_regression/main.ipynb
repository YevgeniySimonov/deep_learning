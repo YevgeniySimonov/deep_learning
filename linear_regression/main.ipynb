{
 "cells": [
  {
   "cell_type": "code",
   "execution_count": 22,
   "metadata": {},
   "outputs": [],
   "source": [
    "import numpy as np\n",
    "import matplotlib.pyplot as plt\n",
    "from torch.utils.data import TensorDataset, DataLoader\n",
    "import torch\n",
    "import torch.nn as nn\n"
   ]
  },
  {
   "cell_type": "code",
   "execution_count": 11,
   "metadata": {},
   "outputs": [],
   "source": [
    "X_train = np.arange(10, dtype=np.float64).reshape((10, 1))\n",
    "y_train = np.array(\n",
    "    [1.0, 1.3, 3.1, 2.0, 5.0, 6.3, 6.6, 7.4, 8.0, 9.0], dtype=np.float64\n",
    ")"
   ]
  },
  {
   "cell_type": "code",
   "execution_count": 12,
   "metadata": {},
   "outputs": [
    {
     "data": {
      "image/png": "[encoded data removed]",
      "text/plain": [
       "<Figure size 432x288 with 1 Axes>"
      ]
     },
     "metadata": {
      "needs_background": "light"
     },
     "output_type": "display_data"
    }
   ],
   "source": [
    "plt.plot(X_train, y_train, 'o', markersize=10)\n",
    "plt.xlabel('x')\n",
    "plt.ylabel('y')\n",
    "plt.show()"
   ]
  },
  {
   "cell_type": "code",
   "execution_count": 13,
   "metadata": {},
   "outputs": [],
   "source": [
    "\n",
    "# standardaze the features (mean centering and dividing by standard deviation)\n",
    "X_train_norm = (X_train - np.mean(X_train)) / np.std(X_train)\n",
    "X_train_norm = torch.from_numpy(X_train_norm)\n",
    "y_train = torch.from_numpy(y_train)\n",
    "train_ds = TensorDataset(X_train_norm, y_train)\n",
    "batch_size = 1\n",
    "train_dl = DataLoader(train_ds, batch_size, shuffle=True)"
   ]
  },
  {
   "cell_type": "code",
   "execution_count": 17,
   "metadata": {},
   "outputs": [],
   "source": [
    "# define a model for linear regression, z = wx + b\n",
    "torch.manual_seed(1)\n",
    "weight = torch.randn(1).double() # weight of neural network\n",
    "weight.requires_grad_()\n",
    "bias = torch.zeros(1, requires_grad=True) # bias of neural network\n",
    "def model(xb):\n",
    "    return xb @ weight + bias"
   ]
  },
  {
   "cell_type": "code",
   "execution_count": 18,
   "metadata": {},
   "outputs": [],
   "source": [
    "# define the loss function that we want to minimize, using mean squared error (MSE) metric\n",
    "def loss_fn(input, target):\n",
    "    return (input-target).pow(2).mean()"
   ]
  },
  {
   "cell_type": "code",
   "execution_count": 19,
   "metadata": {},
   "outputs": [
    {
     "name": "stdout",
     "output_type": "stream",
     "text": [
      "Epoch 0 | Loss 46.5720\n",
      "Epoch 10 | Loss 27.1502\n",
      "Epoch 20 | Loss 1.6446\n",
      "Epoch 30 | Loss 14.4571\n",
      "Epoch 40 | Loss 11.7827\n",
      "Epoch 50 | Loss 6.4122\n",
      "Epoch 60 | Loss 0.6339\n",
      "Epoch 70 | Loss 3.1562\n",
      "Epoch 80 | Loss 2.0100\n",
      "Epoch 90 | Loss 0.3107\n",
      "Epoch 100 | Loss 0.7625\n",
      "Epoch 110 | Loss 1.0024\n",
      "Epoch 120 | Loss 0.0232\n",
      "Epoch 130 | Loss 0.5138\n",
      "Epoch 140 | Loss 0.0741\n",
      "Epoch 150 | Loss 1.8712\n",
      "Epoch 160 | Loss 0.0007\n",
      "Epoch 170 | Loss 0.0850\n",
      "Epoch 180 | Loss 0.0634\n",
      "Epoch 190 | Loss 0.0012\n"
     ]
    }
   ],
   "source": [
    "# implement training via stochastic gradient descent (SGD)\n",
    "# this method is typically available in torch.optim module\n",
    "learning_rate = 0.001\n",
    "num_epochs = 200\n",
    "log_epochs = 10\n",
    "for epoch in range(num_epochs):\n",
    "    for x_batch, y_batch in train_dl:\n",
    "        pred = model(x_batch)\n",
    "        loss = loss_fn(pred, y_batch)\n",
    "        loss.backward()\n",
    "    with torch.no_grad():\n",
    "        weight -= weight.grad * learning_rate\n",
    "        bias -= bias.grad * learning_rate\n",
    "        weight.grad.zero_()\n",
    "        bias.grad.zero_()\n",
    "    if epoch % log_epochs == 0:\n",
    "        print(f\"Epoch {epoch} | Loss {loss.item():.4f}\")"
   ]
  },
  {
   "cell_type": "code",
   "execution_count": 20,
   "metadata": {},
   "outputs": [
    {
     "name": "stdout",
     "output_type": "stream",
     "text": [
      "Final Parameters:  2.6709304310884425 4.88258695602417\n"
     ]
    }
   ],
   "source": [
    "print('Final Parameters: ', weight.item(), bias.item())"
   ]
  },
  {
   "cell_type": "code",
   "execution_count": 21,
   "metadata": {},
   "outputs": [
    {
     "data": {
      "image/png": "[encoded data removed]",
      "text/plain": [
       "<Figure size 936x360 with 1 Axes>"
      ]
     },
     "metadata": {
      "needs_background": "light"
     },
     "output_type": "display_data"
    }
   ],
   "source": [
    "# for the test data, create numpy array of values evently spaced between 0 and 9\n",
    "# since training model contains standardized features, apply the same standardization to test data\n",
    "X_test = np.linspace(0, 9, num=100, dtype=np.float64).reshape(-1, 1)\n",
    "X_test_norm = (X_test - np.mean(X_train)) / np.std(X_train)\n",
    "X_test_norm = torch.from_numpy(X_test_norm)\n",
    "y_pred = model(X_test_norm).detach().numpy()\n",
    "\n",
    "fig = plt.figure(figsize=(13, 5))\n",
    "ax = fig.add_subplot(1, 2, 1)\n",
    "plt.plot(X_train_norm, y_train, 'o', markersize=10)\n",
    "plt.plot(X_test_norm, y_pred, '--', lw=3)\n",
    "plt.legend(['Training examples', 'Linear regression'], fontsize=15)\n",
    "ax.set_xlabel('x', size=15)\n",
    "ax.set_ylabel('y', size=15)\n",
    "ax.tick_params(axis='both', which='major', labelsize=15)\n",
    "plt.show()\n",
    "\n"
   ]
  },
  {
   "cell_type": "code",
   "execution_count": 30,
   "metadata": {},
   "outputs": [],
   "source": [
    "# model training via the torch.nn and torch.optim modules\n",
    "loss_fn = nn.MSELoss(reduction='mean')\n",
    "input_size = 1\n",
    "output_size = 1\n",
    "model = nn.Linear(input_size, output_size, dtype=torch.double)\n",
    "optimizer = torch.optim.SGD(model.parameters(), lr=learning_rate)"
   ]
  },
  {
   "cell_type": "code",
   "execution_count": 31,
   "metadata": {},
   "outputs": [
    {
     "name": "stdout",
     "output_type": "stream",
     "text": [
      "Epoch 0 | Loss 67.6364\n",
      "Epoch 10 | Loss 35.6476\n",
      "Epoch 20 | Loss 7.6768\n",
      "Epoch 30 | Loss 0.9549\n",
      "Epoch 40 | Loss 0.5363\n",
      "Epoch 50 | Loss 0.0015\n",
      "Epoch 60 | Loss 7.9290\n",
      "Epoch 70 | Loss 0.0545\n",
      "Epoch 80 | Loss 0.0153\n",
      "Epoch 90 | Loss 0.7103\n",
      "Epoch 100 | Loss 1.3749\n",
      "Epoch 110 | Loss 0.0101\n",
      "Epoch 120 | Loss 0.6339\n",
      "Epoch 130 | Loss 0.4575\n",
      "Epoch 140 | Loss 0.1576\n",
      "Epoch 150 | Loss 1.8082\n",
      "Epoch 160 | Loss 0.1634\n",
      "Epoch 170 | Loss 0.4595\n",
      "Epoch 180 | Loss 0.4175\n",
      "Epoch 190 | Loss 0.3177\n"
     ]
    }
   ],
   "source": [
    "# train the model\n",
    "for epoch in range(num_epochs):\n",
    "    for x_batch, y_batch in train_dl:\n",
    "        pred = model(x_batch)[:, 0]         # generate predictions\n",
    "        loss = loss_fn(pred, y_batch)       # calculate loss\n",
    "        loss.backward()                     # compute gradients\n",
    "        optimizer.step()                    # update parameters using gradients\n",
    "        optimizer.zero_grad()               # reset the gradients to zero\n",
    "    if epoch % log_epochs == 0:\n",
    "        print(f'Epoch {epoch} | Loss {loss.item():.4f}')"
   ]
  },
  {
   "cell_type": "code",
   "execution_count": null,
   "metadata": {},
   "outputs": [],
   "source": [
    "print('Final Parameters: ', model.weight.item(), model.bias.item())"
   ]
  }
 ],
 "metadata": {
  "interpreter": {
   "hash": "5385bbf1daacd4fecc907306b591d855629299b6e8bdef553b3f42c16ecb0317"
  },
  "kernelspec": {
   "display_name": "Python 3.9.10 ('venv': venv)",
   "language": "python",
   "name": "python3"
  },
  "language_info": {
   "codemirror_mode": {
    "name": "ipython",
    "version": 3
   },
   "file_extension": ".py",
   "mimetype": "text/x-python",
   "name": "python",
   "nbconvert_exporter": "python",
   "pygments_lexer": "ipython3",
   "version": "3.9.10"
  },
  "orig_nbformat": 4
 },
 "nbformat": 4,
 "nbformat_minor": 2
}
